{
 "cells": [
  {
   "cell_type": "code",
   "execution_count": 1,
   "metadata": {},
   "outputs": [
    {
     "data": {
      "text/html": [
       "<div><pre style=\"&#102;&#111;&#110;&#116;&#45;&#102;&#97;&#109;&#105;&#108;&#121;&#58;&#32;&#34;&#67;&#111;&#117;&#114;&#105;&#101;&#114;&#32;&#78;&#101;&#119;&#34;&#44;&#67;&#111;&#117;&#114;&#105;&#101;&#114;&#44;&#109;&#111;&#110;&#111;&#115;&#112;&#97;&#99;&#101;&#59;\">&#120;</pre></div>"
      ],
      "text/plain": [
       "x"
      ]
     },
     "execution_count": 1,
     "metadata": {
      "text/html": [],
      "text/plain": []
     },
     "output_type": "execute_result"
    }
   ],
   "source": [
    "x"
   ]
  },
  {
   "cell_type": "code",
   "execution_count": 2,
   "metadata": {},
   "outputs": [
    {
     "data": {
      "text/html": [
       "<div><img alt=\"Output\" src=\"data:image/png;base64,iVBORw0KGgoAAAANSUhEUgAAAA0AAAAPCAIAAACwQdIgAAAAqHpUWHRSYXcgcHJvZmlsZSB0eXBlIGV4aWYAAHjabU5bCsMwDPvPKXYEvyInxwltCr3Bjj+lLYPBRCLJwjYu830e5bWg1krUbOiAENGj26BpcsP5VFSMGk9kX71yffJyrxCx0ZqsUOUvwtNQoRnkMMlEp290ZNRiUhMHNoCNit0kNupEJseQqCY+1uCCzfztnnDWOy9yc57p6oN/sblxVC7vrIaH8+ryATJOOZits451AAAACXBIWXMAAAsTAAALEwEAmpwYAAAAPHRFWHRTb2Z0d2FyZQBDcmVhdGVkIHdpdGggdGhlIFdvbGZyYW0gTGFuZ3VhZ2UgOiB3d3cud29sZnJhbS5jb21coqaFAAAAIXRFWHRDcmVhdGlvbiBUaW1lADIwMjE6MTE6MjIgMDE6MzI6NDYRpjPFAAAAgklEQVQokZ2RsRHFMAhDlcziS5UJNBDzMA3LMAwpSGL/+8ZFVGHunQQYMZerkKSo5xsV5x4RrmSSO+ZqrWVxHlkUfne2WKxzw1Xe4WrOBADZV0G2Hn8TgIPNr59JkiZzqOe6EoPtv/pdSBY3eu9y57lykTuO7spijy0iVnGPqn/7yl3Hw0yRA6G79QAAAABJRU5ErkJggg==\"></div>"
      ],
      "text/plain": [
       " 2\n",
       "x"
      ]
     },
     "execution_count": 2,
     "metadata": {
      "text/html": [],
      "text/plain": []
     },
     "output_type": "execute_result"
    }
   ],
   "source": [
    "x^2"
   ]
  },
  {
   "cell_type": "code",
   "execution_count": 6,
   "metadata": {},
   "outputs": [
    {
     "data": {
      "text/html": [
       "<div><img alt=\"Output\" src=\"data:image/png;base64,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\"></div>"
      ],
      "text/plain": [
       "-Graphics-"
      ]
     },
     "execution_count": 6,
     "metadata": {
      "text/html": [],
      "text/plain": []
     },
     "output_type": "execute_result"
    }
   ],
   "source": [
    "Plot[Sin[x], {x, 0, 10}]"
   ]
  },
  {
   "cell_type": "code",
   "execution_count": 9,
   "metadata": {},
   "outputs": [
    {
     "data": {
      "text/html": [
       "<div>&#36;&#36;&#120;&#94;&#50;&#36;&#36;</div>"
      ],
      "text/plain": [
       "x^2"
      ]
     },
     "execution_count": 9,
     "metadata": {
      "text/html": [],
      "text/plain": []
     },
     "output_type": "execute_result"
    }
   ],
   "source": [
    "TeXForm[x^2]"
   ]
  },
  {
   "cell_type": "code",
   "execution_count": 11,
   "metadata": {},
   "outputs": [
    {
     "data": {
      "text/html": [
       "<div><img alt=\"Output\" src=\"data:image/png;base64,iVBORw0KGgoAAAANSUhEUgAAABEAAAAPCAIAAACN07NGAAAAp3pUWHRSYXcgcHJvZmlsZSB0eXBlIGV4aWYAAHjabU7bDcMgEPtnio5wL3wwDkqIlA06fk0SVapUC2xjndGV+T6P8lpQayVqNnRAiOjRbdA0ueE8KipGjSeyr165Pnm5vxCx0ZqsUOUvwtNQoRnkMMlEp290ZNRiUhMHNoCDit0kNupEJmtIVBMfq7hgM3+nJ5zvnRu5Odd09cG72NxYlcu7t4u5ZfkAMnA5mKVrUWEAAAAJcEhZcwAACxMAAAsTAQCanBgAAAA8dEVYdFNvZnR3YXJlAENyZWF0ZWQgd2l0aCB0aGUgV29sZnJhbSBMYW5ndWFnZSA6IHd3dy53b2xmcmFtLmNvbVyipoUAAAAhdEVYdENyZWF0aW9uIFRpbWUAMjAyMToxMToyMiAwMTozODozMa8+0MUAAACTSURBVCiR3ZKxFcIwDETP3oUllA0yACNILXvQKCOkZQBrApjAFfYuoiAYh9Ck4/HLO53e6T0Fd8dO4t7An2ZMQkNs7Zt0okkIw1ThPUUJnHxNYoCTe2KQFnfHS21sMs9VnRMBkzFr6c0vEL2diHrPrfz5dNuOmxwux/k6ax6HqQJAX41U+aNbYixXLC1IS/jhf3sAx6+LW0vm8+sAAAAASUVORK5CYII=\"></div>"
      ],
      "text/plain": [
       "a x"
      ]
     },
     "execution_count": 11,
     "metadata": {
      "text/html": [],
      "text/plain": []
     },
     "output_type": "execute_result"
    }
   ],
   "source": [
    "f_a[x_]=a*x"
   ]
  },
  {
   "cell_type": "code",
   "execution_count": 17,
   "metadata": {},
   "outputs": [
    {
     "data": {
      "text/html": [
       "<div><img alt=\"Output\" src=\"data:image/png;base64,iVBORw0KGgoAAAANSUhEUgAAABEAAAAPCAIAAACN07NGAAAAqHpUWHRSYXcgcHJvZmlsZSB0eXBlIGV4aWYAAHjabU9bCsMwDPvPKXYEvyInxwltCr3Bjj+lLYPBRCIpwjZOme/zKK8FtVaiZkMHhIge3QZNkxvOo6Ji1Hgi++qV65OXe4SIjdZkhSp/EZ6GCs0gh0kmOn2jI6MWk5o4sAEsVOwmsVEnMtmGRDXxsRoXbOZv9YTzvXMjN+earj54F5sbW+XyQR1+fad8ADIeOY/rRZ0SAAAACXBIWXMAAAsTAAALEwEAmpwYAAAAPHRFWHRTb2Z0d2FyZQBDcmVhdGVkIHdpdGggdGhlIFdvbGZyYW0gTGFuZ3VhZ2UgOiB3d3cud29sZnJhbS5jb21coqaFAAAAIXRFWHRDcmVhdGlvbiBUaW1lADIwMjE6MTE6MjIgMDE6NDA6MDJqjiZDAAAAk0lEQVQokd2SsRXCMAxEz96FJZQNMgAjSC170CgjpGUAawKYwBX2LqIgGIfQpOPxyzud3uk9BXfHTuLewJ9mTEJDbO2bdKJJCMNU4T1FCZx8TWKAk3tikBZ3x0ttbDLPVZ0TAZMxa+nNLxC9nYh6z638+XTbjpscLsf5Omseh6kCQF+NVPmjW2IsVywtSEv44X97AMevi1tL5vPrAAAAAElFTkSuQmCC\"></div>"
      ],
      "text/plain": [
       "a x"
      ]
     },
     "execution_count": 17,
     "metadata": {
      "text/html": [],
      "text/plain": []
     },
     "output_type": "execute_result"
    }
   ],
   "source": [
    "Subscript[f,a][x_] = a*x "
   ]
  },
  {
   "cell_type": "code",
   "execution_count": 18,
   "metadata": {},
   "outputs": [
    {
     "data": {
      "text/html": [
       "<div><pre style=\"&#102;&#111;&#110;&#116;&#45;&#102;&#97;&#109;&#105;&#108;&#121;&#58;&#32;&#34;&#67;&#111;&#117;&#114;&#105;&#101;&#114;&#32;&#78;&#101;&#119;&#34;&#44;&#67;&#111;&#117;&#114;&#105;&#101;&#114;&#44;&#109;&#111;&#110;&#111;&#115;&#112;&#97;&#99;&#101;&#59;\">&#54;</pre></div>"
      ],
      "text/plain": [
       "6"
      ]
     },
     "execution_count": 18,
     "metadata": {
      "text/html": [],
      "text/plain": []
     },
     "output_type": "execute_result"
    }
   ],
   "source": [
    "Subscript[f,2][3]"
   ]
  },
  {
   "cell_type": "code",
   "execution_count": 26,
   "metadata": {},
   "outputs": [],
   "source": [
    "Get[\"test.m\"]"
   ]
  },
  {
   "cell_type": "code",
   "execution_count": 28,
   "metadata": {},
   "outputs": [
    {
     "data": {
      "text/html": [
       "<div><img alt=\"Output\" src=\"data:image/png;base64,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\"></div>"
      ],
      "text/plain": [
       "-Graphics-"
      ]
     },
     "execution_count": 28,
     "metadata": {
      "text/html": [],
      "text/plain": []
     },
     "output_type": "execute_result"
    }
   ],
   "source": [
    "Plot[g[x], {x, 0, 10}]"
   ]
  },
  {
   "cell_type": "code",
   "execution_count": 32,
   "metadata": {},
   "outputs": [
    {
     "data": {
      "text/html": [
       "<div><img alt=\"Output\" src=\"data:image/png;base64,iVBORw0KGgoAAAANSUhEUgAAACoAAAAPCAIAAAAdwMqJAAAAqHpUWHRSYXcgcHJvZmlsZSB0eXBlIGV4aWYAAHjabU9bCsMwDPvPKXYEvyInxwltCr3Bjj+lLYPBRCIpwjZOme/zKK8FtVaiZkMHhIge3QZNkxvOo6Ji1Hgi++qV65OXe4SIjdZkhSp/EZ6GCs0gh0kmOn2jI6MWk5o4sAEsVOwmsVEnMtmGRDXxsRoXbOZv9YTzvXMjN+earj54F5sbW9WdPhzk61vlAzKUOZrd3izSAAAACXBIWXMAAAsTAAALEwEAmpwYAAAAPHRFWHRTb2Z0d2FyZQBDcmVhdGVkIHdpdGggdGhlIFdvbGZyYW0gTGFuZ3VhZ2UgOiB3d3cud29sZnJhbS5jb21coqaFAAAAIXRFWHRDcmVhdGlvbiBUaW1lADIwMjE6MTE6MjIgMTM6NDY6MDT9s80dAAABVElEQVQ4jd2TMXLCMBBFv5gcxTQZTiCfQEND5SMspWnoKOlopBKOoCqN5RPgEzAUke6yKSzbMkkIRRxm8hpb69Wu9P9aMDOex+yJvf9D+3ot1vXDqS39hhkABJMLcftlAtSRmb2WQ+QFweRzW3g+Z9P1/ZavxQ8mF7kJ41UweW7MWggRH4lSnazjTQ8IOsghteceR/3aawlyMY0cOwKk9l5LqT2zIwDkukypffLC4/e0HDMzzwBk5ZmZfWHnw/nVihpbBQChstBb1R6WVgoAZLFMrSJ3VACQLQvZXD1CZRvalW1KVu6oufqfxM/KM7OjZnOoAUBtNWwVUB82i67S7zP2PrxfIF/n3akXtjJvp3jjB6gPm4ZWCtmykKd9HINg9qeu5mda73p6V+IAJJHOtDgWI+8jicdDuA+Ofrm2MvgOyfxNxJ32jm7E+LP2rXIT35yZ+QM9yGFolpc24wAAAABJRU5ErkJggg==\"></div>"
      ],
      "text/plain": [
       "Symbol"
      ]
     },
     "execution_count": 32,
     "metadata": {
      "text/html": [],
      "text/plain": []
     },
     "output_type": "execute_result"
    }
   ],
   "source": [
    "Head[FullForm]"
   ]
  },
  {
   "cell_type": "code",
   "execution_count": 36,
   "metadata": {},
   "outputs": [],
   "source": [
    "f[x]:=x^2"
   ]
  },
  {
   "cell_type": "code",
   "execution_count": 38,
   "metadata": {},
   "outputs": [
    {
     "data": {
      "text/html": [
       "<div><pre style=\"&#102;&#111;&#110;&#116;&#45;&#102;&#97;&#109;&#105;&#108;&#121;&#58;&#32;&#34;&#67;&#111;&#117;&#114;&#105;&#101;&#114;&#32;&#78;&#101;&#119;&#34;&#44;&#67;&#111;&#117;&#114;&#105;&#101;&#114;&#44;&#109;&#111;&#110;&#111;&#115;&#112;&#97;&#99;&#101;&#59;\">&#48;&#46;&#57;&#48;&#57;&#50;&#57;&#55;</pre></div>"
      ],
      "text/plain": [
       "0.909297"
      ]
     },
     "execution_count": 38,
     "metadata": {
      "text/html": [],
      "text/plain": []
     },
     "output_type": "execute_result"
    }
   ],
   "source": [
    "N[f[2]]"
   ]
  },
  {
   "cell_type": "code",
   "execution_count": 40,
   "metadata": {},
   "outputs": [
    {
     "data": {
      "text/html": [
       "<div><img alt=\"Output\" src=\"data:image/png;base64,iVBORw0KGgoAAAANSUhEUgAAACwAAAAPCAIAAAAQ3rrOAAAAp3pUWHRSYXcgcHJvZmlsZSB0eXBlIGV4aWYAAHjabU/bDQMhDPtnio6QFw6Mg+44qRt0/JoeqlSpFsTGJMiU+Xpe5bGg1krUbOiAENGj26BocsO5VFSMHNuyL3983X65nxCx0ZosU+UvwtNQoRmsYZKJTt2oWFGLSU1cOAA2Kk6TOMgTmRxDopr4WIMLNvO3e8J5PpnIzRnT1Qf3quZMvZ3g3fC6vlXeMn45macTNzkAAAAJcEhZcwAACxMAAAsTAQCanBgAAAA8dEVYdFNvZnR3YXJlAENyZWF0ZWQgd2l0aCB0aGUgV29sZnJhbSBMYW5ndWFnZSA6IHd3dy53b2xmcmFtLmNvbVyipoUAAAAhdEVYdENyZWF0aW9uIFRpbWUAMjAyMToxMToyMyAyMTo0MDo1NFN9G3AAAAE6SURBVDiN1VM7coMwFFwxOQo0Hk4AJ8AVVY4gStS48w3ciDIcgSoNTyeAE6SKdJeXxuZnDIR4xpPtJO28t2+1TzAzXg3v1QKA/yDCFbEQmdlayznn3B6e1zW7YnvPCYyx28m2LoYy2OoIkbb8VxDRL8h62PHhd5js3hqTiay4uRYXS9a7Ih4wxqd7MLPVEYA5O6yOIPsBSQLXM0kMX2acINlVnJSZdcLPG2a271WwOiAkfSQAEByiJRqAJJVtVTsArq6gT8ljav8dft4wk2zVZW80pypOGlXtYC4qPOf+AnOcCff9hegQPEcE/PwcVnXxWcp0wQYAXp9AIUSgQmpyH7etDVSL8rh/c5M0VGpVA7B9rVYwu6KDdI7vR8F82zPgVpjsWEripTg82QlriYjIdhZgdusnPGZm/gHunzprCoGUyQAAAABJRU5ErkJggg==\"></div>"
      ],
      "text/plain": [
       "Sin[y]"
      ]
     },
     "execution_count": 40,
     "metadata": {
      "text/html": [],
      "text/plain": []
     },
     "output_type": "execute_result"
    }
   ],
   "source": [
    "f[y]"
   ]
  },
  {
   "cell_type": "code",
   "execution_count": 41,
   "metadata": {},
   "outputs": [
    {
     "data": {
      "text/html": [
       "<div><pre style=\"&#102;&#111;&#110;&#116;&#45;&#102;&#97;&#109;&#105;&#108;&#121;&#58;&#32;&#34;&#67;&#111;&#117;&#114;&#105;&#101;&#114;&#32;&#78;&#101;&#119;&#34;&#44;&#67;&#111;&#117;&#114;&#105;&#101;&#114;&#44;&#109;&#111;&#110;&#111;&#115;&#112;&#97;&#99;&#101;&#59;\">&#97;&#120;</pre></div>"
      ],
      "text/plain": [
       "ax"
      ]
     },
     "execution_count": 41,
     "metadata": {
      "text/html": [],
      "text/plain": []
     },
     "output_type": "execute_result"
    }
   ],
   "source": [
    "ax"
   ]
  },
  {
   "cell_type": "code",
   "execution_count": 44,
   "metadata": {},
   "outputs": [
    {
     "data": {
      "text/html": [
       "<div><pre style=\"&#102;&#111;&#110;&#116;&#45;&#102;&#97;&#109;&#105;&#108;&#121;&#58;&#32;&#34;&#67;&#111;&#117;&#114;&#105;&#101;&#114;&#32;&#78;&#101;&#119;&#34;&#44;&#67;&#111;&#117;&#114;&#105;&#101;&#114;&#44;&#109;&#111;&#110;&#111;&#115;&#112;&#97;&#99;&#101;&#59;\">&#50;</pre></div>"
      ],
      "text/plain": [
       "2"
      ]
     },
     "execution_count": 44,
     "metadata": {
      "text/html": [],
      "text/plain": []
     },
     "output_type": "execute_result"
    }
   ],
   "source": [
    "a=1;x=2"
   ]
  },
  {
   "cell_type": "code",
   "execution_count": 45,
   "metadata": {},
   "outputs": [
    {
     "data": {
      "text/html": [
       "<div><pre style=\"&#102;&#111;&#110;&#116;&#45;&#102;&#97;&#109;&#105;&#108;&#121;&#58;&#32;&#34;&#67;&#111;&#117;&#114;&#105;&#101;&#114;&#32;&#78;&#101;&#119;&#34;&#44;&#67;&#111;&#117;&#114;&#105;&#101;&#114;&#44;&#109;&#111;&#110;&#111;&#115;&#112;&#97;&#99;&#101;&#59;\">&#97;&#120;</pre></div>"
      ],
      "text/plain": [
       "ax"
      ]
     },
     "execution_count": 45,
     "metadata": {
      "text/html": [],
      "text/plain": []
     },
     "output_type": "execute_result"
    }
   ],
   "source": [
    "ax"
   ]
  },
  {
   "cell_type": "code",
   "execution_count": 46,
   "metadata": {},
   "outputs": [
    {
     "data": {
      "text/html": [
       "<div><img alt=\"Output\" src=\"data:image/png;base64,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\"></div>"
      ],
      "text/plain": [
       "-Graphics-"
      ]
     },
     "execution_count": 46,
     "metadata": {
      "text/html": [],
      "text/plain": []
     },
     "output_type": "execute_result"
    }
   ],
   "source": [
    "Plot[Table[\n",
    "   PDF[NormalDistribution[0, \\[Sigma]], x], {\\[Sigma], {.75, 1, 2}}] //\n",
    "   Evaluate, {x, -6, 6}, Filling -> Axis]"
   ]
  },
  {
   "cell_type": "code",
   "execution_count": 52,
   "metadata": {},
   "outputs": [
    {
     "data": {
      "text/html": [
       "<div>&#36;&#36;&#92;&#102;&#114;&#97;&#99;&#123;&#101;&#94;&#123;&#45;&#92;&#102;&#114;&#97;&#99;&#123;&#50;&#125;&#123;&#92;&#115;&#105;&#103;&#109;&#97;&#32;&#94;&#50;&#125;&#125;&#125;&#123;&#92;&#115;&#113;&#114;&#116;&#123;&#50;&#32;&#92;&#112;&#105;&#32;&#125;&#32;&#92;&#115;&#105;&#103;&#109;&#97;&#32;&#125;&#36;&#36;</div>"
      ],
      "text/plain": [
       "\\frac{e^{-\\frac{2}{\\sigma ^2}}}{\\sqrt{2 \\pi } \\sigma }"
      ]
     },
     "execution_count": 52,
     "metadata": {
      "text/html": [],
      "text/plain": []
     },
     "output_type": "execute_result"
    }
   ],
   "source": [
    "TeXForm[PDF[NormalDistribution[0, \\[Sigma]], x]]"
   ]
  },
  {
   "cell_type": "code",
   "execution_count": 1,
   "metadata": {},
   "outputs": [
    {
     "data": {
      "text/html": [
       "<div><img alt=\"Output\" src=\"data:image/png;base64,iVBORw0KGgoAAAANSUhEUgAAACEAAAAzCAIAAACWmPaoAAAAqHpUWHRSYXcgcHJvZmlsZSB0eXBlIGV4aWYAAHjabU9bCsMwDPvPKXYEvyKnxwldCrvBjj+5LYPBRCIpwjZOW+/X0R4FtdGi58AGCBFbbDZphlxwHhUVo8Yd2VfPXO+8XSNEbI4hFar8RXgaOjSDHCaZ2OgHHRm9mfTEgR1goeJpEjt1IZNtSHQTn9VYsJW/1QvO95MbuTnXdPXJW2xerZVO9zPp9a32ATKYOZo/zWlsAAAACXBIWXMAAAsTAAALEwEAmpwYAAAAPHRFWHRTb2Z0d2FyZQBDcmVhdGVkIHdpdGggdGhlIFdvbGZyYW0gTGFuZ3VhZ2UgOiB3d3cud29sZnJhbS5jb21coqaFAAAAIXRFWHRDcmVhdGlvbiBUaW1lADIwMjE6MTE6MjUgMjA6MzE6NTTyiNv2AAACaUlEQVRYhe2XLZPaQBjHl05FJN8gCDjBRKA3At3W5Btc1EZeEOcqIuoq2CiGKiRTg2IjUWBBMBHszoADR9zFPRVJc8ddks3L0aEz91fL7pJfnn3eNg0AQFfWp9pPEK6l67puuSJzC9QV5xwAOMWY8vQd9e1ot9vRQLtrX8sOAABOCWGZq1UYnBH64omcEpJ1TNUYnDNKMKaMMcY5ACMIIYwxxjiLVMEOzigmjEe+LqLPFZzcuXC1XPXjSq4GVMhz4er3vqahrjF++HIlRklV8AdyHCdn1TTNVqv1ckZuhxB/C1EJN1/oZn1eUnXtEK6uW14JhvDiXpDXDC4JP31Nk+16ZgjXmu8Q+r5cLsfjb9xyJW8XEYyxIX2ThOHN0eOd7xsdIYQQqGP4u3xIRCiQgq/yo9tNhp3Hh9xIFXN/u/2t6z9WqxXaIrbMwSXVlBLKaH4jSBXLa08AcFnbGSUYY0IZY5QQwkrjMvQmP4QQ1TM6Xf9DDn4w3ldxDua3nQqybbvZbEbjj7i6LUa5e0kQBIPBQFXVt0uGYfR6vfS/lapus9nsfD6XrYnlzupwOCQRWVw35vMgCGIjhKs3IumFLhfFj9XzvP1+D8Apjjsfpxhlfmk+qwRjOBy+nmIEIVmnzfF5EASO45xOp5wzELstIob0apLJmE6npmlOJpPoZxiGiqJc7PCsjq2xIreffDNHo9HxeASAxWKxXq+TeU5xkVOKJGE8PT3Zth3BqgFAmoOKoqiqutlswjCMp4R7b68Q+vU1Dt+G7EpdIHYjU1KCqrDkNVFRlH6/X6GEJCraB1Pi6t0ZdfQvauIfu/NaterUaCEAAAAASUVORK5CYII=\"></div>"
      ],
      "text/plain": [
       "      1\n",
       "-------------\n",
       "          2\n",
       "         t /4\n",
       "Sqrt[2] E"
      ]
     },
     "execution_count": 1,
     "metadata": {
      "text/html": [],
      "text/plain": []
     },
     "output_type": "execute_result"
    }
   ],
   "source": [
    "FourierTransform[Exp[-x*x], x, t]"
   ]
  },
  {
   "cell_type": "code",
   "execution_count": 61,
   "metadata": {},
   "outputs": [
    {
     "data": {
      "text/html": [
       "<div><img alt=\"Output\" src=\"data:image/png;base64,iVBORw0KGgoAAAANSUhEUgAAAC8AAAAzCAIAAACIUcYbAAAAp3pUWHRSYXcgcHJvZmlsZSB0eXBlIGV4aWYAAHjabU9bCsMwDPvPKXYEvyInxyltCrvBjj95LYPBRCIpwjZOW6/n2R4FtdGi58AEhIgZ0zaaIRecR0XFqHFH9tVPrnferhEito0hFar8RXgaOjSDHCaZmPSDjozeTHrixA6wUHGYxE5dyGQbEt3Et2os2Mrf6gXn++BGbs41XX3jLTav1krLJ9nrO+0NMrQ5m5MenRMAAAAJcEhZcwAACxMAAAsTAQCanBgAAAA8dEVYdFNvZnR3YXJlAENyZWF0ZWQgd2l0aCB0aGUgV29sZnJhbSBMYW5ndWFnZSA6IHd3dy53b2xmcmFtLmNvbVyipoUAAAAhdEVYdENyZWF0aW9uIFRpbWUAMjAyMToxMToyNSAyMDoyNzozMlW6rykAAALJSURBVFiF7Vgvc+JAFH+5OVGZb0BEUsFUIJmNwXI1+QZFLTiCqLsZ+g1YFFPXc7jGdPMJbqYOh8juDDhw4MC9igBtINnAXrhjrv2ZJGTf8sv7k997MRARLgbfit5Q9puu67rNvtSxxoIhhEBEwQhh4mTjwn1j23Z8cnNtn25dtG8QEQWjlOsYFs9GMEo1goSIxbPhFAAIIYQQDU4G/tcV/kf4rmEj5fZdsi2gh4cHtUmj0bAsK3dnnUgdsikKnyVvtCSi4Ap/h45EnM83WhJxNt8gni4RZ2SjIRE5bARnlBBCTpceLYlQsRGMMsY2rhacMpXTOSW76Ou0NoiozOLwBe6vx2PPkVJKCY43jsLMtf3A+7VhzcXvtuZLMa+myuXdqXPfrisWOjYAgBRRJPSoqNk4MH4BGEdgb5G9tn4Ld4ZhGMZdALcKznlQxjHOYco454xSyjXT4WgcoVNSyuL1MR2fRTV18MUmG5fFZtMX5za254Pv+6ZpxudfNZWNLzbZyJ/ulstlp9MplUoau3ueV6lUTjDIVbLn5+fFYnFmudwgP1LT6XRXgefGZeVNDpvlcrlxjOy7RgxX7wPjUVAHMgzDyWSCKBjZduuM6Hfhechh0+v19n/iFGBvZBOMHDxl5lQnOCMkY2mCzWKx6Ha7s9lMwUYwkv5PgsUTzvaYDk7JrqEVfH9pIm+Gw2Gj0Xh6eoov1+v11dVV4jHCpuPf8Me0PlwAOB+PqQgD+PlY3zS1dr19HSWSMMGm1WpZlmWa5nw+B4DX19dqtbq7K/uu8QM4pnKBMIJbGwBkBKqvAOXyR6oyGidvHzpztVr5vo+Ig8EgEaDsXPgQHnWgBEsEav9rSnoW93q90Wj0njQHaZrklYi/mg4Kth2RU+bzdDaxe1IKKnV/vjdnCe25K7PbCoLANM1arZadA8VD1ful1NQ/ZPP3cVmq+QYWHznbd3DSngAAAABJRU5ErkJggg==\"></div>"
      ],
      "text/plain": [
       "        1\n",
       "------------------\n",
       "    2\n",
       " 2/σ\n",
       "E     Sqrt[2 Pi] σ"
      ]
     },
     "execution_count": 61,
     "metadata": {
      "text/html": [],
      "text/plain": []
     },
     "output_type": "execute_result"
    }
   ],
   "source": [
    "f[x_]= PDF[NormalDistribution[0, \\[Sigma]], x]"
   ]
  },
  {
   "cell_type": "code",
   "execution_count": 63,
   "metadata": {},
   "outputs": [
    {
     "data": {
      "text/html": [
       "<div><img alt=\"Output\" src=\"data:image/png;base64,iVBORw0KGgoAAAANSUhEUgAAAC8AAAAzCAIAAACIUcYbAAAApnpUWHRSYXcgcHJvZmlsZSB0eXBlIGV4aWYAAHjabU7bCcMwEPv3FB3hXtbZ44TEgW7Q8atrQqFQYUuy0Jlr6/U826OgNlr0HJiAEDFj2kYz5ILzqKgYNe7IvvrJ9c7b9YWIbWNIhSp/EZ6GDs0gh0kmJv2gI6M3k544sQMsKg6T2KkLmRxDopv4VoMFW/nbXnC+D27k5lzT1TfeYvMarbR8ksM7i28yxjmf8q63xgAAAAlwSFlzAAALEwAACxMBAJqcGAAAADx0RVh0U29mdHdhcmUAQ3JlYXRlZCB3aXRoIHRoZSBXb2xmcmFtIExhbmd1YWdlIDogd3d3LndvbGZyYW0uY29tXKKmhQAAACF0RVh0Q3JlYXRpb24gVGltZQAyMDIxOjExOjI1IDIwOjI3OjQ1hJ+sTQAAAslJREFUWIXtWC9z4kAUf7k5UZlvQERSwVQgmY3BcjX5BkUtOIKouxn6DVgUU9dzuMZ08wlupg6HyO4MOHDgwL2KAG0g2cBeuGOu/ZkkZN/yy/uT33sxEBEuBt+K3lD2m67rus2+1LHGgiGEQETBCGHiZOPCfWPbdnxyc22fbl20bxARBaOU6xgWz0YwSjWChIjFs+EUAAghhBANTgb+1xX+R/iuYSPl9l2yLaCHhwe1SaPRsCwrd2edSB2yKQqfJW+0JKLgCn+HjkSczzdaEnE23yCeLhFnZKMhETlsBGeUEEJOlx4tiVCxEYwyxjauFpwyldM5Jbvo67Q2iKjM4vAF7q/HY8+RUkoJjjeOwsy1/cD7tWHNxe+25ksxr6bK5d2pc9+uKxY6NgCAFFEk9Kio2TgwfgEYR2Bvkb22fgt3hmEYxl0AtwrOeVDGMc5hyjjnjFLKNdPhaByhU1LK4vUxHZ9FNXXwxSYbl8Vm0xfnNrbng+/7pmnG5181lY0vNtnIn+6Wy2Wn0ymVShq7e55XqVROMMhVsufn58VicWa53CA/UtPpdFeB58Zl5U0Om+VyuXGM7LtGDFfvA+NRUAcyDMPJZIIoGNl264zod+F5yGHT6/X2f+IUYG9kE4wcPGXmVCc4IyRjaYLNYrHodruz2UzBRjCS/k+CxRPO9pgOTsmuoRV8f2kib4bDYaPReHp6ii/X6/XV1VXiMcKm49/wx7Q+XAA4H4+pCAP4+VjfNLV2vX0dJZIwwabValmWZZrmfD4HgNfX12q1ursr+67xAzimcoEwglsbAGQEqq8A5fJHqjIaJ28fOnO1Wvm+j4iDwSARoOxc+BAedaAESwRq/2tKehb3er3RaPSeNAdpmuSViL+aDgq2HZFT5vN0NrF7UgoqdX++N2cJ7bkrs9sKgsA0zVqtlp0DxUPV+6XU1D9k8/dxWar5BhYfOdt3cNKeAAAAAElFTkSuQmCC\"></div>"
      ],
      "text/plain": [
       "        1\n",
       "------------------\n",
       "    2\n",
       " 2/σ\n",
       "E     Sqrt[2 Pi] σ"
      ]
     },
     "execution_count": 63,
     "metadata": {
      "text/html": [],
      "text/plain": []
     },
     "output_type": "execute_result"
    }
   ],
   "source": [
    "f[4]"
   ]
  },
  {
   "cell_type": "code",
   "execution_count": null,
   "metadata": {},
   "outputs": [],
   "source": []
  }
 ],
 "metadata": {
  "kernelspec": {
   "display_name": "Wolfram Language 12.1",
   "language": "Wolfram Language",
   "name": "wolframlanguage12.1"
  },
  "language_info": {
   "codemirror_mode": "mathematica",
   "file_extension": ".m",
   "mimetype": "application/vnd.wolfram.m",
   "name": "Wolfram Language",
   "pygments_lexer": "mathematica",
   "version": "12.0"
  }
 },
 "nbformat": 4,
 "nbformat_minor": 4
}