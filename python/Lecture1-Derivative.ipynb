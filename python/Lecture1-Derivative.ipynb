{
 "cells": [
  {
   "cell_type": "code",
   "execution_count": 19,
   "metadata": {},
   "outputs": [
    {
     "data": {
      "text/html": [
       "<div><pre style=\"&#102;&#111;&#110;&#116;&#45;&#102;&#97;&#109;&#105;&#108;&#121;&#58;&#32;&#34;&#67;&#111;&#117;&#114;&#105;&#101;&#114;&#32;&#78;&#101;&#119;&#34;&#44;&#67;&#111;&#117;&#114;&#105;&#101;&#114;&#44;&#109;&#111;&#110;&#111;&#115;&#112;&#97;&#99;&#101;&#59;\">&#32;&#32;&#32;&#32;&#32;&#45;&#49;&#50;&#10;&#49;&#46;&#32;&#49;&#48;</pre></div>"
      ],
      "text/plain": [
       "     -12\n",
       "1. 10"
      ]
     },
     "execution_count": 19,
     "metadata": {
      "text/html": [],
      "text/plain": []
     },
     "output_type": "execute_result"
    }
   ],
   "source": [
    "\\[Epsilon] = 0.000000000001"
   ]
  },
  {
   "cell_type": "code",
   "execution_count": 21,
   "metadata": {},
   "outputs": [
    {
     "data": {
      "text/html": [
       "<div><img alt=\"Output\" src=\"data:image/png;base64,iVBORw0KGgoAAAANSUhEUgAAABIAAAAPCAIAAABm5AhFAAAAqXpUWHRSYXcgcHJvZmlsZSB0eXBlIGV4aWYAAHjabU9bDsMgDPvnFDtCXjhwHNRSqTfY8WfaatKkGbCDlUBS5vs8ymtBrZWo2dABIaJHt8GgyQ3nVlExajyWffXy9fHL/YSIjdZkmSp/EZ6GCs0gh0kmOuPGiIxaTGriwAYwUbGbxEadyGQZEtXExypcsJm/2RPO+86O3JxtuvrgWWz8mjNxDa+Oy+eI5QMyzjmcmYWUpAAAAAlwSFlzAAALEwAACxMBAJqcGAAAADx0RVh0U29mdHdhcmUAQ3JlYXRlZCB3aXRoIHRoZSBXb2xmcmFtIExhbmd1YWdlIDogd3d3LndvbGZyYW0uY29tXKKmhQAAACF0RVh0Q3JlYXRpb24gVGltZQAyMDIxOjExOjI3IDAwOjU2OjEzXMeRCAAAAJhJREFUKJHtkrsRwjAQRPcYlyIlLkFUYCKqOIWQOKMDJ3IIhUgdUAHjAKmXJQCDGYbhkzHDZjd3+3aDE5L4XLMvPH8bkLxc5RMACMlSUs6TK9s05gmg9HM7bLitABhj73aPnuRlsRsHBQC+VlS4kEmSOThoJCsApffdcEPXy3Y1bVmOB6A+p3br/dtpjHohuBAUGkn5hZ88AU67e8Z04hmsAAAAAElFTkSuQmCC\"></div>"
      ],
      "text/plain": [
       "= a"
      ]
     },
     "execution_count": 21,
     "metadata": {
      "text/html": [],
      "text/plain": []
     },
     "output_type": "execute_result"
    }
   ],
   "source": [
    "a \"=\""
   ]
  },
  {
   "cell_type": "markdown",
   "metadata": {},
   "source": [
    "$x$ `\\[Epsilon]`"
   ]
  },
  {
   "cell_type": "code",
   "execution_count": 33,
   "metadata": {},
   "outputs": [
    {
     "data": {
      "text/html": [
       "<div><img alt=\"Output\" src=\"data:image/png;base64,iVBORw0KGgoAAAANSUhEUgAAADQAAAAPCAIAAAAkp3vSAAAAqHpUWHRSYXcgcHJvZmlsZSB0eXBlIGV4aWYAAHjabU/bDQMhDPtnio6QFw6Mg+44qRt0/JpyqlSpBhLHciCU+Xpe5bGg1krUbOiAENGj2yBpsuHcKirGHLdk3/zR9dbLvkLERmuyRJW/CE9DhWYwhkkmOnkjY0QtJjVx4QBoVJwmcTBPZLINiWriYzUu2Mxf94SzPjmRm3NMVx88Kxqf5p+4hrvn1ml8AzK4OZlXy+hGAAAACXBIWXMAAAsTAAALEwEAmpwYAAAAPHRFWHRTb2Z0d2FyZQBDcmVhdGVkIHdpdGggdGhlIFdvbGZyYW0gTGFuZ3VhZ2UgOiB3d3cud29sZnJhbS5jb21coqaFAAAAIXRFWHRDcmVhdGlvbiBUaW1lADIwMjE6MTE6MjcgMDA6Mzc6MTGFNWLhAAABaElEQVRIid1VO47CMBScRHsUewvECZITBJqtaOlImTR0lOm2iUvS0aaiSd4JkhOsaPzu8rbAQSDIB2nRrnZKezwee8ayJyL4q/B/28AQ/pE5ir0zYno0zSa8m2Fm5mnqd1QfFHuh6cYeyV8h2ouIzYNpmwEgspO5AGArc2Xv9bEqpdRk5u1Avzk2oTcY4j1Tp+24Bab4IhzGNBS5DwBtqr1beTahLldWRERs/rUITa8IxTqd1445FjiTqbBtxKHZR0O36gNAkFvHdvJcle1ml5wXqmS3aU993aFjEeTbaMRU563K0nTR3cRoJG/TVH8I9jSvpZl4kr7OqeUqKDIXJZusCGa6R0DPgrasGACb9Vjnog9k5lIzZhqsXN+DUElTz10TdbmyTaLQNV+nLYpFl4pKDjlS7XmePu3qzbA5RPsDjmv3Gj4rPVg5QF6Kuq6f4+eX+ovIP/q+nobWIBpplgMzEeF9eRX0Nz0PPUkrxHlFAAAAAElFTkSuQmCC\"></div>"
      ],
      "text/plain": [
       "Hold[ϵ]"
      ]
     },
     "execution_count": 33,
     "metadata": {
      "text/html": [],
      "text/plain": []
     },
     "output_type": "execute_result"
    }
   ],
   "source": [
    "Hold[\\[Epsilon]]"
   ]
  },
  {
   "cell_type": "code",
   "execution_count": 17,
   "metadata": {},
   "outputs": [
    {
     "name": "stdout",
     "output_type": "stream",
     "text": [
      "f[2, 3]\r\n"
     ]
    }
   ],
   "source": [
    "Print[f[2, 3]]"
   ]
  },
  {
   "cell_type": "code",
   "execution_count": 19,
   "metadata": {},
   "outputs": [
    {
     "ename": "ToExpression::sntxi",
     "evalue": "Incomplete expression; more input is needed .\n",
     "output_type": "error",
     "traceback": [
      "\u001b[0;31mToExpression::sntxi: Incomplete expression; more input is needed .\n\u001b[0m"
     ]
    },
    {
     "data": {
      "text/html": [
       "<div><img alt=\"Output\" src=\"data:image/png;base64,iVBORw0KGgoAAAANSUhEUgAAADEAAAAPCAIAAADCjrCWAAAAqHpUWHRSYXcgcHJvZmlsZSB0eXBlIGV4aWYAAHjabU9bDsMgDPvnFDtCXjhwHNRSqTfY8WfaatKkOeAEy4FQ5vs8ymtBrZWo2dABIaJHt8GiyQ3nUlEx5ngk++ZL10cv9xUiNlqTJar8RXgaKjSDHCaZ6KwbKzJqMamJAxtAo2I3iY15IpNtSFQTH6txwWb+uiec550TuTnHdPXBvdj4NP/EGF4Zl07jBzK8OZnDVL+cAAAACXBIWXMAAAsTAAALEwEAmpwYAAAAPHRFWHRTb2Z0d2FyZQBDcmVhdGVkIHdpdGggdGhlIFdvbGZyYW0gTGFuZ3VhZ2UgOiB3d3cud29sZnJhbS5jb21coqaFAAAAIXRFWHRDcmVhdGlvbiBUaW1lADIwMjE6MTE6MjcgMDA6NTU6MTGgfF/KAAABU0lEQVRIic1Wu5GDMBBdMVcKOPBcBaICiNzBZSKE5KogEaEp4SInJyowFTAOkHpZBxIS4nM2BGe/CC2rt7tv3zAQRIQ3Q/DqBhbw5j01WVypnTSqignJmjEZ0RgHnyDJGtOTJkjrtogshyXdyqyRnBFRcrrxGgAAfICq4rTjEg8luZzwnLh3THjHvxDmV8z31F+C3t3nIVR9R4/Rg+yxeFa6DWtSVTxX3gajotURRBRMPzKBDkMQAAAol+hDcurlT89LQcHcSTBDKpgtPKQHYHYvGNSpP6yju+bhRBM70/NQfadLaPMawktN+bfvkMBdYAJRsDpdX0GTpZ1RbId95a319LaDThG4C2aUdVepvrPdldt1Sk6sLcrJwNGRtj+/CgBU9WX95BnHW/jMHy6Xcj68nyrGxFrQD9Op4kyYmmDdOO/gVTC7kzd4+CH4NxB8v/+CO1zPxljaIKeTAAAAAElFTkSuQmCC\"></div>"
      ],
      "text/plain": [
       "$Failed"
      ]
     },
     "execution_count": 19,
     "metadata": {
      "text/html": [],
      "text/plain": []
     },
     "output_type": "execute_result"
    }
   ],
   "source": [
    "\\[Epsilon] ="
   ]
  },
  {
   "cell_type": "code",
   "execution_count": 14,
   "metadata": {},
   "outputs": [],
   "source": [
    "SetAttributes[MyPrint, HoldAll];\n",
    "MyPrint[var_] := \n",
    "  Module[\n",
    "    {varname = ToString[Hold[var]]},\n",
    "    Print[StringTake[varname, {6, StringLength[varname] - 1}], \n",
    "                \" = \", Evaluate[var]]\n",
    "  ]"
   ]
  },
  {
   "cell_type": "code",
   "execution_count": 34,
   "metadata": {},
   "outputs": [
    {
     "data": {
      "text/html": [
       "<div>&#36;&#36;&#98;&#36;&#36;</div>"
      ],
      "text/plain": [
       "b"
      ]
     },
     "execution_count": 34,
     "metadata": {
      "text/html": [],
      "text/plain": []
     },
     "output_type": "execute_result"
    }
   ],
   "source": [
    "TeXForm[a\"x\";b]"
   ]
  },
  {
   "cell_type": "code",
   "execution_count": 43,
   "metadata": {},
   "outputs": [
    {
     "data": {
      "text/html": [
       "<div><pre style=\"&#102;&#111;&#110;&#116;&#45;&#102;&#97;&#109;&#105;&#108;&#121;&#58;&#32;&#34;&#67;&#111;&#117;&#114;&#105;&#101;&#114;&#32;&#78;&#101;&#119;&#34;&#44;&#67;&#111;&#117;&#114;&#105;&#101;&#114;&#44;&#109;&#111;&#110;&#111;&#115;&#112;&#97;&#99;&#101;&#59;\">&#49;</pre></div>"
      ],
      "text/plain": [
       "1"
      ]
     },
     "execution_count": 43,
     "metadata": {
      "text/html": [],
      "text/plain": []
     },
     "output_type": "execute_result"
    }
   ],
   "source": [
    "Module[{a,b}, 1]"
   ]
  },
  {
   "cell_type": "code",
   "execution_count": 25,
   "metadata": {},
   "outputs": [
    {
     "data": {
      "text/html": [
       "<div><pre style=\"&#102;&#111;&#110;&#116;&#45;&#102;&#97;&#109;&#105;&#108;&#121;&#58;&#32;&#34;&#67;&#111;&#117;&#114;&#105;&#101;&#114;&#32;&#78;&#101;&#119;&#34;&#44;&#67;&#111;&#117;&#114;&#105;&#101;&#114;&#44;&#109;&#111;&#110;&#111;&#115;&#112;&#97;&#99;&#101;&#59;\">&#120;</pre></div>"
      ],
      "text/plain": [
       "x"
      ]
     },
     "execution_count": 25,
     "metadata": {
      "text/html": [],
      "text/plain": []
     },
     "output_type": "execute_result"
    }
   ],
   "source": [
    "x"
   ]
  },
  {
   "cell_type": "code",
   "execution_count": null,
   "metadata": {},
   "outputs": [],
   "source": []
  }
 ],
 "metadata": {
  "kernelspec": {
   "display_name": "Wolfram Language 12.1",
   "language": "Wolfram Language",
   "name": "wolframlanguage12.1"
  },
  "language_info": {
   "codemirror_mode": "mathematica",
   "file_extension": ".m",
   "mimetype": "application/vnd.wolfram.m",
   "name": "Wolfram Language",
   "pygments_lexer": "mathematica",
   "version": "12.0"
  }
 },
 "nbformat": 4,
 "nbformat_minor": 4
}
